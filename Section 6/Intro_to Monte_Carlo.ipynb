{
 "cells": [
  {
   "cell_type": "markdown",
   "metadata": {},
   "source": [
    "# Introduction to Monte Carlo Method"
   ]
  },
  {
   "cell_type": "code",
   "execution_count": 5,
   "metadata": {},
   "outputs": [],
   "source": [
    "# Suppose you have an IRA currently valued at $100,000 invested in the S&P500 ETF. You plan to retire in 30 years.\n",
    "# How much should you expect to have in your retirement account\n",
    "\n",
    "pv = 100000\n",
    "er = .095\n",
    "time_horizon = 30\n",
    "ending_balance = 0"
   ]
  },
  {
   "cell_type": "code",
   "execution_count": 6,
   "metadata": {},
   "outputs": [
    {
     "name": "stdout",
     "output_type": "stream",
     "text": [
      "Year       Ending Balance \n",
      "--------------------------\n",
      "1                  109,500\n",
      "2                  119,902\n",
      "3                  131,293\n",
      "4                  143,766\n",
      "5                  157,424\n",
      "6                  172,379\n",
      "7                  188,755\n",
      "8                  206,687\n",
      "9                  226,322\n",
      "10                 247,823\n",
      "11                 271,366\n",
      "12                 297,146\n",
      "13                 325,375\n",
      "14                 356,285\n",
      "15                 390,132\n",
      "16                 427,195\n",
      "17                 467,778\n",
      "18                 512,217\n",
      "19                 560,878\n",
      "20                 614,161\n",
      "21                 672,507\n",
      "22                 736,395\n",
      "23                 806,352\n",
      "24                 882,956\n",
      "25                 966,836\n",
      "26               1,058,686\n",
      "27               1,159,261\n",
      "28               1,269,391\n",
      "29               1,389,983\n",
      "30               1,522,031\n"
     ]
    }
   ],
   "source": [
    "# deterministic method\n",
    "print(\"{:10s} {:15s}\".format(\"Year\", \"Ending Balance\"))\n",
    "print(\"-\" * 26)\n",
    "for year in range(1, time_horizon + 1):\n",
    "    ending_balance = pv * (1+ er)\n",
    "    print(\"{:<10d} {:15,.0f}\".format(year, ending_balance))\n",
    "    pv = ending_balance\n",
    "\n"
   ]
  },
  {
   "cell_type": "code",
   "execution_count": 8,
   "metadata": {},
   "outputs": [],
   "source": [
    "# But can we reliably earn 9.5% every year?\n",
    "# We need to incorporate volatility\n",
    "\n",
    "volatility = .185"
   ]
  },
  {
   "cell_type": "code",
   "execution_count": 11,
   "metadata": {},
   "outputs": [
    {
     "name": "stdout",
     "output_type": "stream",
     "text": [
      "Year        Ending Balance \n",
      "--------------------------\n",
      "1                  131,187\n",
      "2                   95,103\n",
      "3                  115,900\n",
      "4                  138,928\n",
      "5                  187,496\n",
      "6                  180,564\n",
      "7                  182,571\n",
      "8                  184,477\n",
      "9                  214,817\n",
      "10                 196,816\n",
      "11                 254,039\n",
      "12                 281,077\n",
      "13                 308,210\n",
      "14                 383,442\n",
      "15                 328,133\n",
      "16                 392,661\n",
      "17                 380,703\n",
      "18                 459,178\n",
      "19                 587,166\n",
      "20                 668,955\n",
      "21                 578,506\n",
      "22                 627,892\n",
      "23                 576,707\n",
      "24                 626,682\n",
      "25                 619,922\n",
      "26                 935,228\n",
      "27                 639,739\n",
      "28                 635,116\n",
      "29                 861,136\n",
      "30               1,024,950\n"
     ]
    }
   ],
   "source": [
    "# instead of a guaranteed return there will be a distribution of possible returns - assume a normal distribution\n",
    "import numpy.random as npr\n",
    "pv = 100000\n",
    "er = .095\n",
    "time_horizon = 30\n",
    "ending_balance = 0\n",
    "\n",
    "print(\"{:10s}  {:15s}\".format(\"Year\", \"Ending Balance\"))\n",
    "print(\"-\" * 26)\n",
    "for year in range(1,time_horizon + 1):\n",
    "    year_return = npr.normal(er,volatility)\n",
    "    ending_balance = pv * (1 + year_return)\n",
    "    print(\"{:<10d} {:>15,.0f}\".format(year, ending_balance))\n",
    "    pv = ending_balance\n"
   ]
  },
  {
   "cell_type": "code",
   "execution_count": null,
   "metadata": {},
   "outputs": [],
   "source": []
  },
  {
   "cell_type": "code",
   "execution_count": null,
   "metadata": {},
   "outputs": [],
   "source": []
  },
  {
   "cell_type": "code",
   "execution_count": null,
   "metadata": {},
   "outputs": [],
   "source": []
  },
  {
   "cell_type": "code",
   "execution_count": null,
   "metadata": {},
   "outputs": [],
   "source": []
  },
  {
   "cell_type": "code",
   "execution_count": null,
   "metadata": {},
   "outputs": [],
   "source": []
  },
  {
   "cell_type": "code",
   "execution_count": null,
   "metadata": {},
   "outputs": [],
   "source": []
  }
 ],
 "metadata": {
  "kernelspec": {
   "display_name": "Python 3",
   "language": "python",
   "name": "python3"
  },
  "language_info": {
   "codemirror_mode": {
    "name": "ipython",
    "version": 3
   },
   "file_extension": ".py",
   "mimetype": "text/x-python",
   "name": "python",
   "nbconvert_exporter": "python",
   "pygments_lexer": "ipython3",
   "version": "3.7.2"
  }
 },
 "nbformat": 4,
 "nbformat_minor": 2
}
