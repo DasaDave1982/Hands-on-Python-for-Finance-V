{
 "cells": [
  {
   "cell_type": "markdown",
   "metadata": {},
   "source": [
    "# Monte Carlo Simulation"
   ]
  },
  {
   "cell_type": "code",
   "execution_count": 1,
   "metadata": {},
   "outputs": [],
   "source": [
    "import numpy as np\n",
    "import numpy.random as npr\n",
    "import pandas as pd\n",
    "import matplotlib.pyplot as plt\n",
    "import seaborn\n",
    "seaborn.set()\n",
    "%matplotlib inline"
   ]
  },
  {
   "cell_type": "code",
   "execution_count": 2,
   "metadata": {},
   "outputs": [],
   "source": [
    "exp_return = .095\n",
    "sd = .185\n",
    "horizon = 30\n",
    "iterations = 50000\n",
    "starting = 100000\n",
    "ending = 0"
   ]
  },
  {
   "cell_type": "code",
   "execution_count": 3,
   "metadata": {},
   "outputs": [
    {
     "data": {
      "text/plain": [
       "array([ 0.04890724,  0.08174218,  0.14331761,  0.11283193, -0.05036324,\n",
       "       -0.09537683, -0.14565857,  0.02095984,  0.27020908, -0.00908552,\n",
       "        0.14220083, -0.16867068, -0.22564425, -0.12899353,  0.02198872,\n",
       "       -0.05799966, -0.05176066,  0.39884835,  0.44130242,  0.25728134,\n",
       "       -0.01933227,  0.08476875,  0.45383793,  0.1031999 ,  0.1881201 ,\n",
       "        0.10800162,  0.06378451,  0.014489  ,  0.33236424,  0.04194011])"
      ]
     },
     "execution_count": 3,
     "metadata": {},
     "output_type": "execute_result"
    }
   ],
   "source": [
    "returns = np.zeros((iterations, horizon))\n",
    "for t in range(iterations):\n",
    "    for year in range(horizon):\n",
    "        returns[t][year] = npr.normal(exp_return, sd)\n",
    "returns[10000]        "
   ]
  },
  {
   "cell_type": "code",
   "execution_count": null,
   "metadata": {},
   "outputs": [],
   "source": []
  },
  {
   "cell_type": "code",
   "execution_count": null,
   "metadata": {},
   "outputs": [],
   "source": []
  },
  {
   "cell_type": "code",
   "execution_count": null,
   "metadata": {},
   "outputs": [],
   "source": [
    "\n"
   ]
  },
  {
   "cell_type": "code",
   "execution_count": null,
   "metadata": {},
   "outputs": [],
   "source": []
  },
  {
   "cell_type": "code",
   "execution_count": null,
   "metadata": {},
   "outputs": [],
   "source": []
  },
  {
   "cell_type": "code",
   "execution_count": 4,
   "metadata": {},
   "outputs": [],
   "source": [
    "portfolio = np.zeros((iterations,horizon))\n",
    "for iteration in range(iterations):\n",
    "    starting = 100000\n",
    "    for year in range(horizon):\n",
    "        ending = starting * (1 + returns[iteration,year])\n",
    "        portfolio[iteration,year] = ending\n",
    "        starting = ending"
   ]
  },
  {
   "cell_type": "code",
   "execution_count": 5,
   "metadata": {},
   "outputs": [
    {
     "data": {
      "text/plain": [
       "array([ 113021.61096083,  150094.23350605,  161824.3768216 ,\n",
       "        183769.31093572,  224375.50614595,  256198.62414757,\n",
       "        346612.06677311,  425314.73439369,  558690.4557353 ,\n",
       "        569597.29964176,  415568.51064428,  411685.63089528,\n",
       "        530538.16569781,  426313.17343947,  439741.22728862,\n",
       "        592750.33220109,  713704.05121989,  865192.62888485,\n",
       "        908524.73516435,  791979.17865706,  863511.04503724,\n",
       "        684080.87388234,  861984.70359411,  849350.7069397 ,\n",
       "       1168616.55987069, 1200968.02517689, 1238165.69645067,\n",
       "       1266916.65054495, 1364941.01080063, 1130551.6798648 ])"
      ]
     },
     "execution_count": 5,
     "metadata": {},
     "output_type": "execute_result"
    }
   ],
   "source": [
    "portfolio[46578]"
   ]
  },
  {
   "cell_type": "code",
   "execution_count": 6,
   "metadata": {},
   "outputs": [
    {
     "data": {
      "text/html": [
       "<div>\n",
       "<style scoped>\n",
       "    .dataframe tbody tr th:only-of-type {\n",
       "        vertical-align: middle;\n",
       "    }\n",
       "\n",
       "    .dataframe tbody tr th {\n",
       "        vertical-align: top;\n",
       "    }\n",
       "\n",
       "    .dataframe thead th {\n",
       "        text-align: right;\n",
       "    }\n",
       "</style>\n",
       "<table border=\"1\" class=\"dataframe\">\n",
       "  <thead>\n",
       "    <tr style=\"text-align: right;\">\n",
       "      <th></th>\n",
       "      <th>0</th>\n",
       "      <th>1</th>\n",
       "      <th>2</th>\n",
       "      <th>3</th>\n",
       "      <th>4</th>\n",
       "    </tr>\n",
       "  </thead>\n",
       "  <tbody>\n",
       "    <tr>\n",
       "      <th>0</th>\n",
       "      <td>9.081804e+04</td>\n",
       "      <td>97898.335142</td>\n",
       "      <td>9.938105e+04</td>\n",
       "      <td>1.074364e+05</td>\n",
       "      <td>1.124830e+05</td>\n",
       "    </tr>\n",
       "    <tr>\n",
       "      <th>1</th>\n",
       "      <td>1.021737e+05</td>\n",
       "      <td>85152.152769</td>\n",
       "      <td>1.029717e+05</td>\n",
       "      <td>1.304570e+05</td>\n",
       "      <td>1.296120e+05</td>\n",
       "    </tr>\n",
       "    <tr>\n",
       "      <th>2</th>\n",
       "      <td>1.111723e+05</td>\n",
       "      <td>106077.254117</td>\n",
       "      <td>1.404346e+05</td>\n",
       "      <td>1.426380e+05</td>\n",
       "      <td>1.107222e+05</td>\n",
       "    </tr>\n",
       "    <tr>\n",
       "      <th>3</th>\n",
       "      <td>1.321841e+05</td>\n",
       "      <td>138266.082861</td>\n",
       "      <td>2.005406e+05</td>\n",
       "      <td>1.265507e+05</td>\n",
       "      <td>1.281679e+05</td>\n",
       "    </tr>\n",
       "    <tr>\n",
       "      <th>4</th>\n",
       "      <td>1.070027e+05</td>\n",
       "      <td>126181.832516</td>\n",
       "      <td>2.652032e+05</td>\n",
       "      <td>1.525319e+05</td>\n",
       "      <td>1.150776e+05</td>\n",
       "    </tr>\n",
       "    <tr>\n",
       "      <th>5</th>\n",
       "      <td>1.315996e+05</td>\n",
       "      <td>96632.540617</td>\n",
       "      <td>2.792436e+05</td>\n",
       "      <td>1.637052e+05</td>\n",
       "      <td>1.032595e+05</td>\n",
       "    </tr>\n",
       "    <tr>\n",
       "      <th>6</th>\n",
       "      <td>1.483297e+05</td>\n",
       "      <td>108840.006801</td>\n",
       "      <td>3.330091e+05</td>\n",
       "      <td>1.458528e+05</td>\n",
       "      <td>1.137260e+05</td>\n",
       "    </tr>\n",
       "    <tr>\n",
       "      <th>7</th>\n",
       "      <td>2.335822e+05</td>\n",
       "      <td>119753.604372</td>\n",
       "      <td>3.825950e+05</td>\n",
       "      <td>1.509177e+05</td>\n",
       "      <td>1.209786e+05</td>\n",
       "    </tr>\n",
       "    <tr>\n",
       "      <th>8</th>\n",
       "      <td>2.873752e+05</td>\n",
       "      <td>162636.380985</td>\n",
       "      <td>3.287554e+05</td>\n",
       "      <td>1.657071e+05</td>\n",
       "      <td>1.292032e+05</td>\n",
       "    </tr>\n",
       "    <tr>\n",
       "      <th>9</th>\n",
       "      <td>2.083673e+05</td>\n",
       "      <td>206422.384922</td>\n",
       "      <td>3.619131e+05</td>\n",
       "      <td>1.732560e+05</td>\n",
       "      <td>1.288347e+05</td>\n",
       "    </tr>\n",
       "    <tr>\n",
       "      <th>10</th>\n",
       "      <td>2.350688e+05</td>\n",
       "      <td>200779.385403</td>\n",
       "      <td>3.485630e+05</td>\n",
       "      <td>1.826863e+05</td>\n",
       "      <td>1.325706e+05</td>\n",
       "    </tr>\n",
       "    <tr>\n",
       "      <th>11</th>\n",
       "      <td>2.618448e+05</td>\n",
       "      <td>248679.368567</td>\n",
       "      <td>3.760822e+05</td>\n",
       "      <td>1.811165e+05</td>\n",
       "      <td>1.273446e+05</td>\n",
       "    </tr>\n",
       "    <tr>\n",
       "      <th>12</th>\n",
       "      <td>2.786912e+05</td>\n",
       "      <td>278851.034775</td>\n",
       "      <td>4.257376e+05</td>\n",
       "      <td>2.111246e+05</td>\n",
       "      <td>1.503744e+05</td>\n",
       "    </tr>\n",
       "    <tr>\n",
       "      <th>13</th>\n",
       "      <td>2.859753e+05</td>\n",
       "      <td>204650.043020</td>\n",
       "      <td>5.096045e+05</td>\n",
       "      <td>2.496428e+05</td>\n",
       "      <td>2.045687e+05</td>\n",
       "    </tr>\n",
       "    <tr>\n",
       "      <th>14</th>\n",
       "      <td>2.782219e+05</td>\n",
       "      <td>206546.289210</td>\n",
       "      <td>6.481270e+05</td>\n",
       "      <td>2.806435e+05</td>\n",
       "      <td>1.907219e+05</td>\n",
       "    </tr>\n",
       "    <tr>\n",
       "      <th>15</th>\n",
       "      <td>3.019980e+05</td>\n",
       "      <td>194166.523070</td>\n",
       "      <td>8.388143e+05</td>\n",
       "      <td>3.459873e+05</td>\n",
       "      <td>2.017633e+05</td>\n",
       "    </tr>\n",
       "    <tr>\n",
       "      <th>16</th>\n",
       "      <td>3.543134e+05</td>\n",
       "      <td>233861.412899</td>\n",
       "      <td>9.725312e+05</td>\n",
       "      <td>2.463848e+05</td>\n",
       "      <td>2.498961e+05</td>\n",
       "    </tr>\n",
       "    <tr>\n",
       "      <th>17</th>\n",
       "      <td>4.201470e+05</td>\n",
       "      <td>322436.953874</td>\n",
       "      <td>1.347595e+06</td>\n",
       "      <td>3.467641e+05</td>\n",
       "      <td>3.350394e+05</td>\n",
       "    </tr>\n",
       "    <tr>\n",
       "      <th>18</th>\n",
       "      <td>5.491054e+05</td>\n",
       "      <td>464895.585217</td>\n",
       "      <td>1.122859e+06</td>\n",
       "      <td>4.291742e+05</td>\n",
       "      <td>3.994215e+05</td>\n",
       "    </tr>\n",
       "    <tr>\n",
       "      <th>19</th>\n",
       "      <td>7.614927e+05</td>\n",
       "      <td>502780.120023</td>\n",
       "      <td>1.448304e+06</td>\n",
       "      <td>4.159183e+05</td>\n",
       "      <td>3.296976e+05</td>\n",
       "    </tr>\n",
       "    <tr>\n",
       "      <th>20</th>\n",
       "      <td>9.602883e+05</td>\n",
       "      <td>450583.338871</td>\n",
       "      <td>1.525577e+06</td>\n",
       "      <td>4.599693e+05</td>\n",
       "      <td>4.002488e+05</td>\n",
       "    </tr>\n",
       "    <tr>\n",
       "      <th>21</th>\n",
       "      <td>1.121279e+06</td>\n",
       "      <td>546989.289556</td>\n",
       "      <td>1.607732e+06</td>\n",
       "      <td>4.793755e+05</td>\n",
       "      <td>5.607399e+05</td>\n",
       "    </tr>\n",
       "    <tr>\n",
       "      <th>22</th>\n",
       "      <td>9.474682e+05</td>\n",
       "      <td>590914.414669</td>\n",
       "      <td>1.865084e+06</td>\n",
       "      <td>6.178852e+05</td>\n",
       "      <td>5.606186e+05</td>\n",
       "    </tr>\n",
       "    <tr>\n",
       "      <th>23</th>\n",
       "      <td>1.039216e+06</td>\n",
       "      <td>776156.305566</td>\n",
       "      <td>1.916980e+06</td>\n",
       "      <td>7.943851e+05</td>\n",
       "      <td>8.791114e+05</td>\n",
       "    </tr>\n",
       "    <tr>\n",
       "      <th>24</th>\n",
       "      <td>9.181393e+05</td>\n",
       "      <td>589007.796375</td>\n",
       "      <td>2.050571e+06</td>\n",
       "      <td>7.399588e+05</td>\n",
       "      <td>1.213326e+06</td>\n",
       "    </tr>\n",
       "    <tr>\n",
       "      <th>25</th>\n",
       "      <td>1.281340e+06</td>\n",
       "      <td>732871.545303</td>\n",
       "      <td>2.429942e+06</td>\n",
       "      <td>7.731966e+05</td>\n",
       "      <td>1.327512e+06</td>\n",
       "    </tr>\n",
       "    <tr>\n",
       "      <th>26</th>\n",
       "      <td>1.345531e+06</td>\n",
       "      <td>733104.720448</td>\n",
       "      <td>2.515922e+06</td>\n",
       "      <td>1.073419e+06</td>\n",
       "      <td>1.741671e+06</td>\n",
       "    </tr>\n",
       "    <tr>\n",
       "      <th>27</th>\n",
       "      <td>1.931294e+06</td>\n",
       "      <td>781727.498995</td>\n",
       "      <td>2.931352e+06</td>\n",
       "      <td>1.117633e+06</td>\n",
       "      <td>1.551791e+06</td>\n",
       "    </tr>\n",
       "    <tr>\n",
       "      <th>28</th>\n",
       "      <td>2.658871e+06</td>\n",
       "      <td>866071.838717</td>\n",
       "      <td>2.425285e+06</td>\n",
       "      <td>1.040085e+06</td>\n",
       "      <td>1.696249e+06</td>\n",
       "    </tr>\n",
       "    <tr>\n",
       "      <th>29</th>\n",
       "      <td>3.256060e+06</td>\n",
       "      <td>707782.628877</td>\n",
       "      <td>2.419963e+06</td>\n",
       "      <td>1.226420e+06</td>\n",
       "      <td>1.751911e+06</td>\n",
       "    </tr>\n",
       "  </tbody>\n",
       "</table>\n",
       "</div>"
      ],
      "text/plain": [
       "               0              1             2             3             4\n",
       "0   9.081804e+04   97898.335142  9.938105e+04  1.074364e+05  1.124830e+05\n",
       "1   1.021737e+05   85152.152769  1.029717e+05  1.304570e+05  1.296120e+05\n",
       "2   1.111723e+05  106077.254117  1.404346e+05  1.426380e+05  1.107222e+05\n",
       "3   1.321841e+05  138266.082861  2.005406e+05  1.265507e+05  1.281679e+05\n",
       "4   1.070027e+05  126181.832516  2.652032e+05  1.525319e+05  1.150776e+05\n",
       "5   1.315996e+05   96632.540617  2.792436e+05  1.637052e+05  1.032595e+05\n",
       "6   1.483297e+05  108840.006801  3.330091e+05  1.458528e+05  1.137260e+05\n",
       "7   2.335822e+05  119753.604372  3.825950e+05  1.509177e+05  1.209786e+05\n",
       "8   2.873752e+05  162636.380985  3.287554e+05  1.657071e+05  1.292032e+05\n",
       "9   2.083673e+05  206422.384922  3.619131e+05  1.732560e+05  1.288347e+05\n",
       "10  2.350688e+05  200779.385403  3.485630e+05  1.826863e+05  1.325706e+05\n",
       "11  2.618448e+05  248679.368567  3.760822e+05  1.811165e+05  1.273446e+05\n",
       "12  2.786912e+05  278851.034775  4.257376e+05  2.111246e+05  1.503744e+05\n",
       "13  2.859753e+05  204650.043020  5.096045e+05  2.496428e+05  2.045687e+05\n",
       "14  2.782219e+05  206546.289210  6.481270e+05  2.806435e+05  1.907219e+05\n",
       "15  3.019980e+05  194166.523070  8.388143e+05  3.459873e+05  2.017633e+05\n",
       "16  3.543134e+05  233861.412899  9.725312e+05  2.463848e+05  2.498961e+05\n",
       "17  4.201470e+05  322436.953874  1.347595e+06  3.467641e+05  3.350394e+05\n",
       "18  5.491054e+05  464895.585217  1.122859e+06  4.291742e+05  3.994215e+05\n",
       "19  7.614927e+05  502780.120023  1.448304e+06  4.159183e+05  3.296976e+05\n",
       "20  9.602883e+05  450583.338871  1.525577e+06  4.599693e+05  4.002488e+05\n",
       "21  1.121279e+06  546989.289556  1.607732e+06  4.793755e+05  5.607399e+05\n",
       "22  9.474682e+05  590914.414669  1.865084e+06  6.178852e+05  5.606186e+05\n",
       "23  1.039216e+06  776156.305566  1.916980e+06  7.943851e+05  8.791114e+05\n",
       "24  9.181393e+05  589007.796375  2.050571e+06  7.399588e+05  1.213326e+06\n",
       "25  1.281340e+06  732871.545303  2.429942e+06  7.731966e+05  1.327512e+06\n",
       "26  1.345531e+06  733104.720448  2.515922e+06  1.073419e+06  1.741671e+06\n",
       "27  1.931294e+06  781727.498995  2.931352e+06  1.117633e+06  1.551791e+06\n",
       "28  2.658871e+06  866071.838717  2.425285e+06  1.040085e+06  1.696249e+06\n",
       "29  3.256060e+06  707782.628877  2.419963e+06  1.226420e+06  1.751911e+06"
      ]
     },
     "execution_count": 6,
     "metadata": {},
     "output_type": "execute_result"
    }
   ],
   "source": [
    "portfolio = pd.DataFrame(portfolio).T\n",
    "portfolio[list(range(5))]"
   ]
  },
  {
   "cell_type": "code",
   "execution_count": 7,
   "metadata": {},
   "outputs": [
    {
     "data": {
      "text/plain": [
       "count    5.000000e+04\n",
       "mean     1.532632e+06\n",
       "std      1.796889e+06\n",
       "min      1.002187e+04\n",
       "25%      5.201132e+05\n",
       "50%      9.932565e+05\n",
       "75%      1.872957e+06\n",
       "max      6.323924e+07\n",
       "Name: 29, dtype: float64"
      ]
     },
     "execution_count": 7,
     "metadata": {},
     "output_type": "execute_result"
    }
   ],
   "source": [
    "portfolio.iloc[29].describe()"
   ]
  },
  {
   "cell_type": "code",
   "execution_count": 8,
   "metadata": {},
   "outputs": [
    {
     "data": {
      "text/plain": [
       "<matplotlib.lines.Line2D at 0x1a236aa588>"
      ]
     },
     "execution_count": 8,
     "metadata": {},
     "output_type": "execute_result"
    },
    {
     "data": {
      "image/png": "[encoded data removed]",
      "text/plain": [
       "<Figure size 864x576 with 1 Axes>"
      ]
     },
     "metadata": {
      "needs_background": "light"
     },
     "output_type": "display_data"
    }
   ],
   "source": [
    "ending = portfolio.iloc[29]\n",
    "mask = ending < 10000000\n",
    "plt.figure(figsize=(12,8))\n",
    "plt.xlim(ending[mask].min(), ending[mask].max() )\n",
    "plt.hist(ending[mask], bins=100, edgecolor='k')\n",
    "plt.axvline(ending[mask].median(), color='r')"
   ]
  },
  {
   "cell_type": "code",
   "execution_count": 9,
   "metadata": {},
   "outputs": [
    {
     "data": {
      "text/plain": [
       "array([ 95830.18767594, 195474.43817969, 280758.37971503])"
      ]
     },
     "execution_count": 9,
     "metadata": {},
     "output_type": "execute_result"
    }
   ],
   "source": [
    "percentiles = [1,5,10]\n",
    "np.percentile(ending, percentiles)"
   ]
  },
  {
   "cell_type": "code",
   "execution_count": null,
   "metadata": {},
   "outputs": [],
   "source": []
  },
  {
   "cell_type": "code",
   "execution_count": null,
   "metadata": {},
   "outputs": [],
   "source": []
  },
  {
   "cell_type": "code",
   "execution_count": null,
   "metadata": {},
   "outputs": [],
   "source": []
  },
  {
   "cell_type": "code",
   "execution_count": null,
   "metadata": {},
   "outputs": [],
   "source": []
  }
 ],
 "metadata": {
  "kernelspec": {
   "display_name": "Python 3",
   "language": "python",
   "name": "python3"
  },
  "language_info": {
   "codemirror_mode": {
    "name": "ipython",
    "version": 3
   },
   "file_extension": ".py",
   "mimetype": "text/x-python",
   "name": "python",
   "nbconvert_exporter": "python",
   "pygments_lexer": "ipython3",
   "version": "3.7.2"
  }
 },
 "nbformat": 4,
 "nbformat_minor": 2
}
