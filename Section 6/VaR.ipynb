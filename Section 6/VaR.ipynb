{
 "cells": [
  {
   "cell_type": "markdown",
   "metadata": {},
   "source": [
    "# Value at Risk"
   ]
  },
  {
   "cell_type": "code",
   "execution_count": 1,
   "metadata": {},
   "outputs": [],
   "source": [
    "import numpy as np\n",
    "import pandas as pd\n",
    "import matplotlib.pyplot as plt\n",
    "import pandas_datareader as pdr\n",
    "%matplotlib inline"
   ]
  },
  {
   "cell_type": "code",
   "execution_count": 3,
   "metadata": {},
   "outputs": [
    {
     "name": "stdout",
     "output_type": "stream",
     "text": [
      "At 0.95 confidence level, loss will not exceed 110,786.95\n",
      "This represents a move of 1.64 standard deviations below the expected return\n"
     ]
    }
   ],
   "source": [
    "# for short time horizons er will be small, and therefore VaR estimations\n",
    "# will not be much influenced by it\n",
    "from scipy.stats import norm\n",
    "CL = 0.95\n",
    "TRADING_DAYS = 252\n",
    "portfolio_val = 760000\n",
    "volatility = 0.307\n",
    "t = 21\n",
    "cutoff = norm.ppf(CL)\n",
    "VaR = portfolio_val * volatility * np.sqrt(t/TRADING_DAYS) * cutoff\n",
    "print(\"At {:.2f} confidence level, loss will not exceed {:,.2f}\".format(CL, VaR))\n",
    "print(\"This represents a move of {:.2f} standard deviations below the expected return\".format(cutoff))"
   ]
  },
  {
   "cell_type": "code",
   "execution_count": 4,
   "metadata": {},
   "outputs": [],
   "source": [
    "aapl = 5000\n",
    "aapl_price = pdr.get_quote_yahoo('AAPL')['price']\n",
    "aapl_value = aapl * aapl_price\n",
    "aapl_value = aapl_value.at['AAPL']\n",
    "t = 21/252\n",
    "er = .19\n",
    "volatility = .307\n",
    "iterations = 50000"
   ]
  },
  {
   "cell_type": "code",
   "execution_count": 5,
   "metadata": {},
   "outputs": [
    {
     "data": {
      "text/plain": [
       "AAPL    156.69\n",
       "Name: price, dtype: float64"
      ]
     },
     "execution_count": 5,
     "metadata": {},
     "output_type": "execute_result"
    }
   ],
   "source": [
    "aapl_price"
   ]
  },
  {
   "cell_type": "code",
   "execution_count": 6,
   "metadata": {},
   "outputs": [],
   "source": [
    "def VaR(pv, er, vol, T, iterations):\n",
    "    end = pv * np.exp((er - .5 * vol ** 2) * T + \n",
    "                     vol * np.sqrt(T) * np.random.standard_normal(iterations))\n",
    "    ending_values = end - pv\n",
    "    return ending_values"
   ]
  },
  {
   "cell_type": "code",
   "execution_count": 7,
   "metadata": {},
   "outputs": [],
   "source": [
    "at_risk = VaR(aapl_value,er,volatility, t, iterations)"
   ]
  },
  {
   "cell_type": "code",
   "execution_count": 8,
   "metadata": {},
   "outputs": [
    {
     "data": {
      "text/plain": [
       "(array([6.000e+00, 5.000e+00, 1.700e+01, 3.300e+01, 7.400e+01, 1.130e+02,\n",
       "        2.260e+02, 3.250e+02, 4.980e+02, 7.260e+02, 9.650e+02, 1.339e+03,\n",
       "        1.708e+03, 2.062e+03, 2.385e+03, 2.657e+03, 2.986e+03, 3.198e+03,\n",
       "        3.483e+03, 3.322e+03, 3.189e+03, 3.110e+03, 2.924e+03, 2.713e+03,\n",
       "        2.281e+03, 1.917e+03, 1.696e+03, 1.336e+03, 1.137e+03, 9.560e+02,\n",
       "        6.960e+02, 5.430e+02, 3.940e+02, 2.980e+02, 2.050e+02, 1.570e+02,\n",
       "        9.300e+01, 5.900e+01, 5.900e+01, 3.400e+01, 2.700e+01, 1.500e+01,\n",
       "        1.100e+01, 1.100e+01, 2.000e+00, 2.000e+00, 3.000e+00, 2.000e+00,\n",
       "        0.000e+00, 2.000e+00]),\n",
       " array([-223241.17353999, -211424.73508898, -199608.29663796,\n",
       "        -187791.85818694, -175975.41973592, -164158.9812849 ,\n",
       "        -152342.54283388, -140526.10438286, -128709.66593184,\n",
       "        -116893.22748082, -105076.7890298 ,  -93260.35057878,\n",
       "         -81443.91212776,  -69627.47367674,  -57811.03522572,\n",
       "         -45994.5967747 ,  -34178.15832368,  -22361.71987266,\n",
       "         -10545.28142164,    1271.15702938,   13087.5954804 ,\n",
       "          24904.03393142,   36720.47238244,   48536.91083346,\n",
       "          60353.34928448,   72169.7877355 ,   83986.22618652,\n",
       "          95802.66463754,  107619.10308856,  119435.54153958,\n",
       "         131251.9799906 ,  143068.41844162,  154884.85689264,\n",
       "         166701.29534366,  178517.73379468,  190334.1722457 ,\n",
       "         202150.61069672,  213967.04914774,  225783.48759876,\n",
       "         237599.92604978,  249416.3645008 ,  261232.80295182,\n",
       "         273049.24140284,  284865.67985386,  296682.11830488,\n",
       "         308498.5567559 ,  320314.99520692,  332131.43365794,\n",
       "         343947.87210895,  355764.31055997,  367580.74901099]),\n",
       " <a list of 50 Patch objects>)"
      ]
     },
     "execution_count": 8,
     "metadata": {},
     "output_type": "execute_result"
    },
    {
     "data": {
      "image/png": "[encoded data removed]",
      "text/plain": [
       "<Figure size 432x288 with 1 Axes>"
      ]
     },
     "metadata": {
      "needs_background": "light"
     },
     "output_type": "display_data"
    }
   ],
   "source": [
    "plt.hist(at_risk,bins=50)"
   ]
  },
  {
   "cell_type": "code",
   "execution_count": null,
   "metadata": {},
   "outputs": [],
   "source": []
  },
  {
   "cell_type": "code",
   "execution_count": 9,
   "metadata": {},
   "outputs": [
    {
     "data": {
      "text/plain": [
       "array([-139474.40149826,  -98818.14106492,  -76532.66788936])"
      ]
     },
     "execution_count": 9,
     "metadata": {},
     "output_type": "execute_result"
    }
   ],
   "source": [
    "percentiles = [1,5,10]\n",
    "np.percentile(at_risk, percentiles)"
   ]
  },
  {
   "cell_type": "code",
   "execution_count": 10,
   "metadata": {},
   "outputs": [
    {
     "data": {
      "text/plain": [
       "AAPL    783450.0\n",
       "Name: price, dtype: float64"
      ]
     },
     "execution_count": 10,
     "metadata": {},
     "output_type": "execute_result"
    }
   ],
   "source": [
    "aapl_price * 5000"
   ]
  },
  {
   "cell_type": "code",
   "execution_count": null,
   "metadata": {},
   "outputs": [],
   "source": []
  },
  {
   "cell_type": "code",
   "execution_count": null,
   "metadata": {},
   "outputs": [],
   "source": []
  }
 ],
 "metadata": {
  "kernelspec": {
   "display_name": "Python 3",
   "language": "python",
   "name": "python3"
  },
  "language_info": {
   "codemirror_mode": {
    "name": "ipython",
    "version": 3
   },
   "file_extension": ".py",
   "mimetype": "text/x-python",
   "name": "python",
   "nbconvert_exporter": "python",
   "pygments_lexer": "ipython3",
   "version": "3.7.2"
  }
 },
 "nbformat": 4,
 "nbformat_minor": 2
}
