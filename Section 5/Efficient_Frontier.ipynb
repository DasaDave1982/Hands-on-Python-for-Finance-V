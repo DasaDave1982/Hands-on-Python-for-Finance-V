{
 "cells": [
  {
   "cell_type": "code",
   "execution_count": 1,
   "metadata": {},
   "outputs": [],
   "source": [
    "import numpy as np\n",
    "import pandas as pd\n",
    "import matplotlib.pyplot as plt\n",
    "import pandas_datareader as pdr\n",
    "%matplotlib inline"
   ]
  },
  {
   "cell_type": "code",
   "execution_count": 4,
   "metadata": {},
   "outputs": [],
   "source": [
    "stocks = 'AAPL GLD'. split()\n",
    "data = pdr.get_data_yahoo(stocks, '2018-01-12')['Close']\n",
    "\n",
    "vol = pd.DataFrame()\n",
    "for stock in stocks:\n",
    "    if stock not in vol:\n",
    "        vol[stock] = np.log(data[stock]).diff() "
   ]
  },
  {
   "cell_type": "code",
   "execution_count": 5,
   "metadata": {},
   "outputs": [
    {
     "name": "stdout",
     "output_type": "stream",
     "text": [
      "<class 'pandas.core.frame.DataFrame'>\n",
      "DatetimeIndex: 253 entries, 2018-01-12 to 2019-01-15\n",
      "Data columns (total 2 columns):\n",
      "AAPL    252 non-null float64\n",
      "GLD     252 non-null float64\n",
      "dtypes: float64(2)\n",
      "memory usage: 5.9 KB\n"
     ]
    }
   ],
   "source": [
    "# ADJUST TO YEARS WORTH OF DATA\n",
    "vol.info()"
   ]
  },
  {
   "cell_type": "code",
   "execution_count": 6,
   "metadata": {},
   "outputs": [
    {
     "name": "stdout",
     "output_type": "stream",
     "text": [
      "0.09608577716448766\n",
      "0.009344685520152596\n"
     ]
    }
   ],
   "source": [
    "var_aapl = vol['AAPL'].var() * 252\n",
    "var_gld = vol['GLD'].var() *252\n",
    "print(var_aapl)\n",
    "print(var_gld)"
   ]
  },
  {
   "cell_type": "code",
   "execution_count": null,
   "metadata": {},
   "outputs": [],
   "source": []
  },
  {
   "cell_type": "code",
   "execution_count": 8,
   "metadata": {},
   "outputs": [],
   "source": [
    "w_aapl =  .9\n",
    "w_gld = 1 - w_aapl\n",
    "exp_aapl = .14\n",
    "exp_gld = .07"
   ]
  },
  {
   "cell_type": "code",
   "execution_count": 9,
   "metadata": {},
   "outputs": [
    {
     "data": {
      "text/plain": [
       "0.13300000000000003"
      ]
     },
     "execution_count": 9,
     "metadata": {},
     "output_type": "execute_result"
    }
   ],
   "source": [
    "exp = w_aapl * exp_aapl + w_gld * exp_gld\n",
    "exp"
   ]
  },
  {
   "cell_type": "code",
   "execution_count": 14,
   "metadata": {},
   "outputs": [
    {
     "data": {
      "text/plain": [
       "-0.002451352516230424"
      ]
     },
     "execution_count": 14,
     "metadata": {},
     "output_type": "execute_result"
    }
   ],
   "source": [
    "cov = np.cov(vol['AAPL'][1:], vol['GLD'][1:])[0,1] *252\n",
    "cov"
   ]
  },
  {
   "cell_type": "code",
   "execution_count": 15,
   "metadata": {},
   "outputs": [
    {
     "data": {
      "text/plain": [
       "0.2783553177245139"
      ]
     },
     "execution_count": 15,
     "metadata": {},
     "output_type": "execute_result"
    }
   ],
   "source": [
    "port_std = np.sqrt(var_aapl * w_aapl **2 + var_gld * w_gld ** 2 + 2 * cov * w_aapl * w_gld)\n",
    "port_std"
   ]
  },
  {
   "cell_type": "code",
   "execution_count": 18,
   "metadata": {},
   "outputs": [
    {
     "data": {
      "text/html": [
       "<div>\n",
       "<style scoped>\n",
       "    .dataframe tbody tr th:only-of-type {\n",
       "        vertical-align: middle;\n",
       "    }\n",
       "\n",
       "    .dataframe tbody tr th {\n",
       "        vertical-align: top;\n",
       "    }\n",
       "\n",
       "    .dataframe thead th {\n",
       "        text-align: right;\n",
       "    }\n",
       "</style>\n",
       "<table border=\"1\" class=\"dataframe\">\n",
       "  <thead>\n",
       "    <tr style=\"text-align: right;\">\n",
       "      <th></th>\n",
       "      <th>weight_aapl</th>\n",
       "      <th>exp_ret</th>\n",
       "      <th>std</th>\n",
       "    </tr>\n",
       "  </thead>\n",
       "  <tbody>\n",
       "    <tr>\n",
       "      <th>0</th>\n",
       "      <td>0.00</td>\n",
       "      <td>0.0700</td>\n",
       "      <td>0.096668</td>\n",
       "    </tr>\n",
       "    <tr>\n",
       "      <th>1</th>\n",
       "      <td>0.05</td>\n",
       "      <td>0.0735</td>\n",
       "      <td>0.092506</td>\n",
       "    </tr>\n",
       "    <tr>\n",
       "      <th>2</th>\n",
       "      <td>0.10</td>\n",
       "      <td>0.0770</td>\n",
       "      <td>0.091156</td>\n",
       "    </tr>\n",
       "    <tr>\n",
       "      <th>3</th>\n",
       "      <td>0.15</td>\n",
       "      <td>0.0805</td>\n",
       "      <td>0.092741</td>\n",
       "    </tr>\n",
       "    <tr>\n",
       "      <th>4</th>\n",
       "      <td>0.20</td>\n",
       "      <td>0.0840</td>\n",
       "      <td>0.097118</td>\n",
       "    </tr>\n",
       "    <tr>\n",
       "      <th>5</th>\n",
       "      <td>0.25</td>\n",
       "      <td>0.0875</td>\n",
       "      <td>0.103933</td>\n",
       "    </tr>\n",
       "    <tr>\n",
       "      <th>6</th>\n",
       "      <td>0.30</td>\n",
       "      <td>0.0910</td>\n",
       "      <td>0.112747</td>\n",
       "    </tr>\n",
       "    <tr>\n",
       "      <th>7</th>\n",
       "      <td>0.35</td>\n",
       "      <td>0.0945</td>\n",
       "      <td>0.123130</td>\n",
       "    </tr>\n",
       "    <tr>\n",
       "      <th>8</th>\n",
       "      <td>0.40</td>\n",
       "      <td>0.0980</td>\n",
       "      <td>0.134720</td>\n",
       "    </tr>\n",
       "    <tr>\n",
       "      <th>9</th>\n",
       "      <td>0.45</td>\n",
       "      <td>0.1015</td>\n",
       "      <td>0.147233</td>\n",
       "    </tr>\n",
       "    <tr>\n",
       "      <th>10</th>\n",
       "      <td>0.50</td>\n",
       "      <td>0.1050</td>\n",
       "      <td>0.160452</td>\n",
       "    </tr>\n",
       "    <tr>\n",
       "      <th>11</th>\n",
       "      <td>0.55</td>\n",
       "      <td>0.1085</td>\n",
       "      <td>0.174217</td>\n",
       "    </tr>\n",
       "    <tr>\n",
       "      <th>12</th>\n",
       "      <td>0.60</td>\n",
       "      <td>0.1120</td>\n",
       "      <td>0.188408</td>\n",
       "    </tr>\n",
       "    <tr>\n",
       "      <th>13</th>\n",
       "      <td>0.65</td>\n",
       "      <td>0.1155</td>\n",
       "      <td>0.202937</td>\n",
       "    </tr>\n",
       "    <tr>\n",
       "      <th>14</th>\n",
       "      <td>0.70</td>\n",
       "      <td>0.1190</td>\n",
       "      <td>0.217734</td>\n",
       "    </tr>\n",
       "    <tr>\n",
       "      <th>15</th>\n",
       "      <td>0.75</td>\n",
       "      <td>0.1225</td>\n",
       "      <td>0.232750</td>\n",
       "    </tr>\n",
       "    <tr>\n",
       "      <th>16</th>\n",
       "      <td>0.80</td>\n",
       "      <td>0.1260</td>\n",
       "      <td>0.247944</td>\n",
       "    </tr>\n",
       "    <tr>\n",
       "      <th>17</th>\n",
       "      <td>0.85</td>\n",
       "      <td>0.1295</td>\n",
       "      <td>0.263286</td>\n",
       "    </tr>\n",
       "    <tr>\n",
       "      <th>18</th>\n",
       "      <td>0.90</td>\n",
       "      <td>0.1330</td>\n",
       "      <td>0.278751</td>\n",
       "    </tr>\n",
       "    <tr>\n",
       "      <th>19</th>\n",
       "      <td>0.95</td>\n",
       "      <td>0.1365</td>\n",
       "      <td>0.294320</td>\n",
       "    </tr>\n",
       "    <tr>\n",
       "      <th>20</th>\n",
       "      <td>1.00</td>\n",
       "      <td>0.1400</td>\n",
       "      <td>0.309977</td>\n",
       "    </tr>\n",
       "  </tbody>\n",
       "</table>\n",
       "</div>"
      ],
      "text/plain": [
       "    weight_aapl  exp_ret       std\n",
       "0          0.00   0.0700  0.096668\n",
       "1          0.05   0.0735  0.092506\n",
       "2          0.10   0.0770  0.091156\n",
       "3          0.15   0.0805  0.092741\n",
       "4          0.20   0.0840  0.097118\n",
       "5          0.25   0.0875  0.103933\n",
       "6          0.30   0.0910  0.112747\n",
       "7          0.35   0.0945  0.123130\n",
       "8          0.40   0.0980  0.134720\n",
       "9          0.45   0.1015  0.147233\n",
       "10         0.50   0.1050  0.160452\n",
       "11         0.55   0.1085  0.174217\n",
       "12         0.60   0.1120  0.188408\n",
       "13         0.65   0.1155  0.202937\n",
       "14         0.70   0.1190  0.217734\n",
       "15         0.75   0.1225  0.232750\n",
       "16         0.80   0.1260  0.247944\n",
       "17         0.85   0.1295  0.263286\n",
       "18         0.90   0.1330  0.278751\n",
       "19         0.95   0.1365  0.294320\n",
       "20         1.00   0.1400  0.309977"
      ]
     },
     "execution_count": 18,
     "metadata": {},
     "output_type": "execute_result"
    }
   ],
   "source": [
    "effic = pd.DataFrame({'weight_aapl':np.zeros(21), 'exp_ret': np.zeros(21), 'std': np.zeros(21)})\n",
    "w_aapl = 0.0\n",
    "for weight in range(21):\n",
    "    effic['weight_aapl'][weight] = w_aapl\n",
    "    effic['exp_ret'][weight] = w_aapl * exp_aapl + (1-w_aapl) * exp_gld\n",
    "    effic['std'][weight] = np.sqrt(var_aapl * w_aapl ** 2 + var_gld * (1-w_aapl) ** 2 + cov * w_aapl * (1 - w_aapl))\n",
    "    w_aapl = w_aapl + .05\n",
    "\n",
    "effic"
   ]
  },
  {
   "cell_type": "code",
   "execution_count": null,
   "metadata": {},
   "outputs": [],
   "source": []
  },
  {
   "cell_type": "code",
   "execution_count": 19,
   "metadata": {},
   "outputs": [
    {
     "data": {
      "image/png": "[encoded data removed]",
      "text/plain": [
       "<Figure size 576x396 with 1 Axes>"
      ]
     },
     "metadata": {},
     "output_type": "display_data"
    }
   ],
   "source": [
    "with plt.style.context('seaborn'):\n",
    "    plt.scatter(effic['std'],effic['exp_ret'])"
   ]
  },
  {
   "cell_type": "code",
   "execution_count": null,
   "metadata": {},
   "outputs": [],
   "source": [
    "# to add a third security and get additional benefit from diversification you would need to adjust the weights\n",
    "# accordingly and add in terms for covariation of security 1 & 3 and security 2 & 3\n",
    "# so for an equal weight portfolio it would look something like this:\n",
    "# np.sqrt(.333 ** 2 * sec1_var + .333 ** 2 * sec2_var + .333 ** 2 * sec3_var + \n",
    "#         2 * cov_sec1_sec2 + 2 * cov_sec_1_sec2 + 2 * cov_sec2_sec3)"
   ]
  },
  {
   "cell_type": "code",
   "execution_count": null,
   "metadata": {},
   "outputs": [],
   "source": []
  },
  {
   "cell_type": "code",
   "execution_count": null,
   "metadata": {},
   "outputs": [],
   "source": []
  },
  {
   "cell_type": "code",
   "execution_count": null,
   "metadata": {},
   "outputs": [],
   "source": []
  },
  {
   "cell_type": "code",
   "execution_count": null,
   "metadata": {},
   "outputs": [],
   "source": []
  }
 ],
 "metadata": {
  "kernelspec": {
   "display_name": "Python 3",
   "language": "python",
   "name": "python3"
  },
  "language_info": {
   "codemirror_mode": {
    "name": "ipython",
    "version": 3
   },
   "file_extension": ".py",
   "mimetype": "text/x-python",
   "name": "python",
   "nbconvert_exporter": "python",
   "pygments_lexer": "ipython3",
   "version": "3.7.0"
  }
 },
 "nbformat": 4,
 "nbformat_minor": 2
}
