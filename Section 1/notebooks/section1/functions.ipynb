{
 "cells": [
  {
   "cell_type": "markdown",
   "metadata": {},
   "source": [
    "# Functions"
   ]
  },
  {
   "cell_type": "code",
   "execution_count": 12,
   "metadata": {},
   "outputs": [],
   "source": [
    "def value_stock(stocks):\n",
    "    for stock, PE in stocks.items():\n",
    "        if PE < 10:\n",
    "            return stock\n",
    "    return (\"We like value stocks!\")    "
   ]
  },
  {
   "cell_type": "code",
   "execution_count": 16,
   "metadata": {},
   "outputs": [],
   "source": [
    "str =\"ABCDEFGHIJKLMNOPQRSTUVWXYZ\"\n",
    "import random\n",
    "stocks = {}\n",
    "for i in range(200):\n",
    "    \n",
    "    stocks[\"\".join(random.sample(str,4))] = random.randint(6,231)\n",
    "        "
   ]
  },
  {
   "cell_type": "code",
   "execution_count": 17,
   "metadata": {},
   "outputs": [
    {
     "data": {
      "text/plain": [
       "'OBIW'"
      ]
     },
     "execution_count": 17,
     "metadata": {},
     "output_type": "execute_result"
    }
   ],
   "source": [
    "value_stock(stocks)"
   ]
  },
  {
   "cell_type": "code",
   "execution_count": 15,
   "metadata": {},
   "outputs": [
    {
     "data": {
      "text/plain": [
       "{'CBWU': 123,\n",
       " 'NZAE': 61,\n",
       " 'CWUJ': 18,\n",
       " 'UPFW': 223,\n",
       " 'NJUC': 59,\n",
       " 'LAJB': 161,\n",
       " 'RNLG': 169,\n",
       " 'GMVB': 152,\n",
       " 'YSAK': 12,\n",
       " 'DIUQ': 69,\n",
       " 'RABU': 164,\n",
       " 'SQMX': 93,\n",
       " 'OICL': 45,\n",
       " 'CMBP': 194,\n",
       " 'BTQL': 22,\n",
       " 'VNBZ': 125,\n",
       " 'IZXK': 143,\n",
       " 'TNBQ': 56,\n",
       " 'PVZF': 76,\n",
       " 'CZQH': 17,\n",
       " 'OEVI': 67,\n",
       " 'HTKS': 108,\n",
       " 'HAEY': 179,\n",
       " 'FKZY': 59,\n",
       " 'WSGU': 111,\n",
       " 'AZSP': 36,\n",
       " 'GMYF': 190,\n",
       " 'UMWO': 13,\n",
       " 'QDJF': 35,\n",
       " 'HAYJ': 165,\n",
       " 'JATS': 10,\n",
       " 'SFKH': 180,\n",
       " 'TERW': 135,\n",
       " 'RUFN': 138,\n",
       " 'HPOW': 205,\n",
       " 'KOEQ': 82,\n",
       " 'TNBK': 118,\n",
       " 'SWVT': 163,\n",
       " 'AJKR': 31,\n",
       " 'ALRC': 50,\n",
       " 'HGVU': 175,\n",
       " 'ODKV': 153,\n",
       " 'BVQL': 40,\n",
       " 'TWER': 199,\n",
       " 'MBLS': 181,\n",
       " 'KRBM': 85,\n",
       " 'PQKJ': 132,\n",
       " 'RGAH': 27,\n",
       " 'YEOQ': 122,\n",
       " 'SLCD': 195,\n",
       " 'HVMT': 172,\n",
       " 'SJMP': 228,\n",
       " 'KAVO': 208,\n",
       " 'KTSA': 47,\n",
       " 'YGFP': 231,\n",
       " 'XGZQ': 219,\n",
       " 'VUWA': 186,\n",
       " 'PTLM': 195,\n",
       " 'TJKN': 19,\n",
       " 'GINY': 50,\n",
       " 'LGEW': 19,\n",
       " 'DZGT': 155,\n",
       " 'QSAM': 34,\n",
       " 'XMWQ': 178,\n",
       " 'LXCF': 92,\n",
       " 'PNJF': 40,\n",
       " 'JOYL': 77,\n",
       " 'QGNV': 53,\n",
       " 'YVCO': 93,\n",
       " 'UICB': 112,\n",
       " 'WXIO': 149,\n",
       " 'SYNG': 24,\n",
       " 'ZTGK': 87,\n",
       " 'ZUEB': 122,\n",
       " 'QNCD': 199,\n",
       " 'HTGR': 133,\n",
       " 'JYNR': 192,\n",
       " 'SDKY': 21,\n",
       " 'MTZH': 15,\n",
       " 'ZUXI': 80,\n",
       " 'SQIO': 158,\n",
       " 'KXTI': 74,\n",
       " 'OUFM': 42,\n",
       " 'RMIF': 209,\n",
       " 'AXFT': 91,\n",
       " 'VDER': 11,\n",
       " 'MEYN': 212,\n",
       " 'YMUX': 210,\n",
       " 'WJYM': 193,\n",
       " 'VDEA': 115,\n",
       " 'CXNK': 221,\n",
       " 'SZFT': 111,\n",
       " 'MAUO': 104,\n",
       " 'UAXT': 227,\n",
       " 'JPBS': 74,\n",
       " 'GTCL': 229,\n",
       " 'FYBC': 28,\n",
       " 'OTAU': 87,\n",
       " 'EGYQ': 70,\n",
       " 'XMBV': 192,\n",
       " 'NKFE': 222,\n",
       " 'CPMX': 29,\n",
       " 'KMCP': 138,\n",
       " 'JENG': 135,\n",
       " 'DXIE': 138,\n",
       " 'DFWM': 78,\n",
       " 'TOEM': 41,\n",
       " 'MLRX': 215,\n",
       " 'DUOB': 37,\n",
       " 'VSXI': 214,\n",
       " 'HIXT': 178,\n",
       " 'GADT': 145,\n",
       " 'WSJY': 73,\n",
       " 'KMGF': 216,\n",
       " 'BMJC': 131,\n",
       " 'KMYW': 119,\n",
       " 'OCHY': 144,\n",
       " 'WTQM': 218,\n",
       " 'XDGQ': 136,\n",
       " 'DAHU': 44,\n",
       " 'IGMW': 177,\n",
       " 'SXDA': 10,\n",
       " 'JEQA': 84,\n",
       " 'XIWU': 135,\n",
       " 'OCFL': 54,\n",
       " 'RXLT': 127,\n",
       " 'NMVO': 79,\n",
       " 'OLTZ': 71,\n",
       " 'GWTR': 84,\n",
       " 'RXWP': 50,\n",
       " 'XGRI': 196,\n",
       " 'AWBO': 204,\n",
       " 'ODSF': 164,\n",
       " 'JAND': 84,\n",
       " 'OTXS': 89,\n",
       " 'TNGW': 137,\n",
       " 'ASEY': 113,\n",
       " 'SLUG': 63,\n",
       " 'ZQBH': 133,\n",
       " 'CDFT': 122,\n",
       " 'HSNI': 73,\n",
       " 'XCWZ': 145,\n",
       " 'YHNP': 167,\n",
       " 'YIJP': 199,\n",
       " 'MSFO': 186,\n",
       " 'AHRQ': 205,\n",
       " 'EFDR': 112,\n",
       " 'LXDM': 197,\n",
       " 'MNYA': 94,\n",
       " 'FBYR': 215,\n",
       " 'YZSF': 166,\n",
       " 'JWIM': 151,\n",
       " 'PWFN': 198,\n",
       " 'UNJQ': 224,\n",
       " 'PBHO': 230,\n",
       " 'VFEH': 68,\n",
       " 'LNIO': 111,\n",
       " 'OXLN': 166,\n",
       " 'IHGT': 20,\n",
       " 'EULV': 134,\n",
       " 'GIXQ': 57,\n",
       " 'MKJX': 142,\n",
       " 'CUBT': 186,\n",
       " 'UZKO': 186,\n",
       " 'HMAL': 199,\n",
       " 'AKNU': 64,\n",
       " 'TUOA': 38,\n",
       " 'DXYK': 72,\n",
       " 'UAZG': 71,\n",
       " 'KHUL': 167,\n",
       " 'JPOI': 16,\n",
       " 'YMCE': 132,\n",
       " 'SJBY': 228,\n",
       " 'KZVF': 130,\n",
       " 'NDSK': 131,\n",
       " 'DPFS': 193,\n",
       " 'ZPSA': 15,\n",
       " 'ZIFV': 188,\n",
       " 'DMQG': 35,\n",
       " 'QUNR': 111,\n",
       " 'OIHV': 16,\n",
       " 'SDXU': 35,\n",
       " 'MUZR': 134,\n",
       " 'VUGJ': 41,\n",
       " 'GYVO': 216,\n",
       " 'VYFH': 119,\n",
       " 'UQXV': 88,\n",
       " 'XDQK': 177,\n",
       " 'IOWB': 77,\n",
       " 'XLOR': 73,\n",
       " 'OIAB': 168,\n",
       " 'GCWI': 134,\n",
       " 'DJUE': 123,\n",
       " 'ZYGE': 167,\n",
       " 'PDXK': 124,\n",
       " 'EZGA': 7,\n",
       " 'ZFQI': 64,\n",
       " 'CNDA': 198,\n",
       " 'ASCG': 30,\n",
       " 'GFAK': 37}"
      ]
     },
     "execution_count": 15,
     "metadata": {},
     "output_type": "execute_result"
    }
   ],
   "source": [
    "stocks"
   ]
  },
  {
   "cell_type": "code",
   "execution_count": 9,
   "metadata": {},
   "outputs": [],
   "source": [
    "def adder(low, high):\n",
    "    '''----------------------\n",
    "    Function to add a range of user specified integers\n",
    "    low: integer to start at\n",
    "    high integer to end at'''\n",
    "    value = 0\n",
    "    while low <= high:\n",
    "        value += low\n",
    "        low += 1\n",
    "    return value    "
   ]
  },
  {
   "cell_type": "code",
   "execution_count": 10,
   "metadata": {},
   "outputs": [
    {
     "name": "stdout",
     "output_type": "stream",
     "text": [
      "Help on function adder in module __main__:\n",
      "\n",
      "adder(low, high)\n",
      "    ----------------------\n",
      "    Function to add a range of user specified integers\n",
      "    low: integer to start at\n",
      "    high integer to end at\n",
      "\n"
     ]
    }
   ],
   "source": [
    "help(adder)"
   ]
  },
  {
   "cell_type": "code",
   "execution_count": 11,
   "metadata": {},
   "outputs": [
    {
     "data": {
      "text/plain": [
       "55"
      ]
     },
     "execution_count": 11,
     "metadata": {},
     "output_type": "execute_result"
    }
   ],
   "source": [
    "adder(1,10)"
   ]
  },
  {
   "cell_type": "code",
   "execution_count": null,
   "metadata": {},
   "outputs": [],
   "source": []
  },
  {
   "cell_type": "code",
   "execution_count": null,
   "metadata": {},
   "outputs": [],
   "source": []
  },
  {
   "cell_type": "code",
   "execution_count": null,
   "metadata": {},
   "outputs": [],
   "source": []
  },
  {
   "cell_type": "code",
   "execution_count": null,
   "metadata": {},
   "outputs": [],
   "source": []
  },
  {
   "cell_type": "code",
   "execution_count": null,
   "metadata": {},
   "outputs": [],
   "source": []
  },
  {
   "cell_type": "code",
   "execution_count": null,
   "metadata": {},
   "outputs": [],
   "source": []
  }
 ],
 "metadata": {
  "kernelspec": {
   "display_name": "Python 3",
   "language": "python",
   "name": "python3"
  },
  "language_info": {
   "codemirror_mode": {
    "name": "ipython",
    "version": 3
   },
   "file_extension": ".py",
   "mimetype": "text/x-python",
   "name": "python",
   "nbconvert_exporter": "python",
   "pygments_lexer": "ipython3",
   "version": "3.7.0"
  }
 },
 "nbformat": 4,
 "nbformat_minor": 2
}
