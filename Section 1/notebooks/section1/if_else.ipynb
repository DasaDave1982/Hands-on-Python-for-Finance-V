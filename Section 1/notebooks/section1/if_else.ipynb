{
 "cells": [
  {
   "cell_type": "markdown",
   "metadata": {},
   "source": [
    "# if ... elif ... else"
   ]
  },
  {
   "cell_type": "code",
   "execution_count": 3,
   "metadata": {},
   "outputs": [
    {
     "data": {
      "text/plain": [
       "{'EOGM': 36,\n",
       " 'SBEO': 14,\n",
       " 'RZDK': 213,\n",
       " 'CYBE': 26,\n",
       " 'YXVK': 23,\n",
       " 'ZEVM': 7,\n",
       " 'RTXI': 117,\n",
       " 'JDUC': 150,\n",
       " 'TJVB': 39,\n",
       " 'KJPW': 77,\n",
       " 'QWVI': 195,\n",
       " 'CQVL': 27,\n",
       " 'OCEV': 210,\n",
       " 'PIRT': 161,\n",
       " 'EYRB': 143,\n",
       " 'RJAD': 63,\n",
       " 'HXUW': 65,\n",
       " 'AHTN': 197,\n",
       " 'WKNJ': 212,\n",
       " 'BIYF': 56}"
      ]
     },
     "execution_count": 3,
     "metadata": {},
     "output_type": "execute_result"
    }
   ],
   "source": [
    "str =\"ABCDEFGHIJKLMNOPQRSTUVWXYZ\"\n",
    "import random\n",
    "stocks ={}\n",
    "for i in range(20):\n",
    "    stocks[\"\".join(random.sample(str,4))] = random.randint(6,231)\n",
    "stocks   \n",
    "    \n"
   ]
  },
  {
   "cell_type": "code",
   "execution_count": 6,
   "metadata": {},
   "outputs": [
    {
     "name": "stdout",
     "output_type": "stream",
     "text": [
      "Value     Fair Price   Over-priced\n",
      "-------------------------------\n",
      "                           EOGM\n",
      "             SBEO\n",
      "                           RZDK\n",
      "                           CYBE\n",
      "                           YXVK\n",
      "ZEVM\n",
      "                           RTXI\n",
      "                           JDUC\n",
      "                           TJVB\n",
      "                           KJPW\n",
      "                           QWVI\n",
      "                           CQVL\n",
      "                           OCEV\n",
      "                           PIRT\n",
      "                           EYRB\n",
      "                           RJAD\n",
      "                           HXUW\n",
      "                           AHTN\n",
      "                           WKNJ\n",
      "                           BIYF\n"
     ]
    }
   ],
   "source": [
    "print(\"{:9} {:12} {:10}\".format(\"Value\", \"Fair Price\", \"Over-priced\"))\n",
    "print(\"-\" * 31)\n",
    "for stock, PE in stocks.items():\n",
    "    if PE < 10:\n",
    "        print(\"{:<}\".format(stock))\n",
    "    elif PE < 20:\n",
    "        print(\"{:>17}\".format(stock))\n",
    "    else:\n",
    "        print(\"{:>31}\".format(stock))\n"
   ]
  },
  {
   "cell_type": "code",
   "execution_count": null,
   "metadata": {},
   "outputs": [],
   "source": []
  },
  {
   "cell_type": "code",
   "execution_count": null,
   "metadata": {},
   "outputs": [],
   "source": []
  },
  {
   "cell_type": "code",
   "execution_count": null,
   "metadata": {},
   "outputs": [],
   "source": []
  },
  {
   "cell_type": "code",
   "execution_count": null,
   "metadata": {},
   "outputs": [],
   "source": []
  },
  {
   "cell_type": "code",
   "execution_count": null,
   "metadata": {},
   "outputs": [],
   "source": []
  },
  {
   "cell_type": "code",
   "execution_count": null,
   "metadata": {},
   "outputs": [],
   "source": []
  },
  {
   "cell_type": "code",
   "execution_count": null,
   "metadata": {},
   "outputs": [],
   "source": []
  },
  {
   "cell_type": "code",
   "execution_count": null,
   "metadata": {},
   "outputs": [],
   "source": []
  }
 ],
 "metadata": {
  "kernelspec": {
   "display_name": "Python 3",
   "language": "python",
   "name": "python3"
  },
  "language_info": {
   "codemirror_mode": {
    "name": "ipython",
    "version": 3
   },
   "file_extension": ".py",
   "mimetype": "text/x-python",
   "name": "python",
   "nbconvert_exporter": "python",
   "pygments_lexer": "ipython3",
   "version": "3.7.0"
  }
 },
 "nbformat": 4,
 "nbformat_minor": 2
}
